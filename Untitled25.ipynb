{
  "cells": [
    {
      "cell_type": "code",
      "execution_count": null,
      "metadata": {
        "colab": {
          "background_save": true,
          "base_uri": "https://localhost:8080/"
        },
        "id": "u6ZEqm8VnUmc",
        "outputId": "66767b2d-0c62-4ceb-ecbe-c75690951d82"
      },
      "outputs": [
        {
          "name": "stderr",
          "output_type": "stream",
          "text": [
            "/tmp/ipython-input-201901106.py:29: SettingWithCopyWarning: \n",
            "A value is trying to be set on a copy of a slice from a DataFrame.\n",
            "Try using .loc[row_indexer,col_indexer] = value instead\n",
            "\n",
            "See the caveats in the documentation: https://pandas.pydata.org/pandas-docs/stable/user_guide/indexing.html#returning-a-view-versus-a-copy\n",
            "  df[col] = pd.to_numeric(df[col], errors='coerce')\n",
            "/usr/local/lib/python3.11/dist-packages/sklearn/neighbors/_lof.py:322: UserWarning: Duplicate values are leading to incorrect results. Increase the number of neighbors for more accurate results.\n",
            "  warnings.warn(\n"
          ]
        },
        {
          "data": {
            "text/plain": [
              "['/content/preh/Cyclone_Inlet_Gas_Temp_anomaly_plot_cleaned.png',\n",
              " '/content/preh/Cyclone_Material_Temp_anomaly_plot_cleaned.png',\n",
              " '/content/preh/Cyclone_Outlet_Gas_draft_anomaly_plot_cleaned.png',\n",
              " '/content/preh/Cyclone_cone_draft_anomaly_plot_cleaned.png',\n",
              " '/content/preh/Cyclone_Gas_Outlet_Temp_anomaly_plot_cleaned.png',\n",
              " '/content/preh/Cyclone_Inlet_Draft_anomaly_plot_cleaned.png',\n",
              " '/content/preh/anomalies_cleaned.csv',\n",
              " '/content/preh/feature_summary_cleaned.csv']"
            ]
          },
          "execution_count": 3,
          "metadata": {},
          "output_type": "execute_result"
        }
      ],
      "source": [
        "import pandas as pd\n",
        "import numpy as np\n",
        "import matplotlib.pyplot as plt\n",
        "import seaborn as sns\n",
        "from sklearn.ensemble import IsolationForest\n",
        "from sklearn.svm import OneClassSVM\n",
        "from sklearn.covariance import EllipticEnvelope\n",
        "from sklearn.neighbors import LocalOutlierFactor\n",
        "\n",
        "\n",
        "\n",
        "# Re-read raw data and clean non-numeric issues\n",
        "df = pd.read_csv('/content/data (5) (1) (1) (1) (1)(internship-data-1).csv')\n",
        "df['time'] = pd.to_datetime(df['time'], errors='coerce')\n",
        "df = df.dropna(subset=['time'])  # Drop rows where time couldn't be parsed\n",
        "\n",
        "# Feature columns\n",
        "features = [\n",
        "    'Cyclone_Inlet_Gas_Temp',\n",
        "    'Cyclone_Material_Temp',\n",
        "    'Cyclone_Outlet_Gas_draft',\n",
        "    'Cyclone_cone_draft',\n",
        "    'Cyclone_Gas_Outlet_Temp',\n",
        "    'Cyclone_Inlet_Draft'\n",
        "]\n",
        "\n",
        "# Convert all feature columns to numeric, coerce errors to NaN, then drop\n",
        "for col in features:\n",
        "    df[col] = pd.to_numeric(df[col], errors='coerce')\n",
        "\n",
        "df = df.dropna(subset=features)\n",
        "df = df.sort_values('time')\n",
        "\n",
        "# Create rolling and diff features\n",
        "for col in features:\n",
        "    df[f'{col}_rolling_mean'] = df[col].rolling(window=5).mean()\n",
        "    df[f'{col}_rolling_std'] = df[col].rolling(window=5).std()\n",
        "    df[f'{col}_diff'] = df[col].diff()\n",
        "\n",
        "df = df.dropna()  # Drop rows with NaN due to rolling/diff\n",
        "\n",
        "X = df.drop(columns=['time'])\n",
        "\n",
        "# Run anomaly detection models\n",
        "iso = IsolationForest(contamination=0.02, random_state=0)\n",
        "df['iso_pred'] = iso.fit_predict(X)\n",
        "\n",
        "svm = OneClassSVM(nu=0.02, kernel='rbf', gamma='scale')\n",
        "df['svm_pred'] = svm.fit_predict(X)\n",
        "\n",
        "elliptic = EllipticEnvelope(contamination=0.02, random_state=0)\n",
        "df['elliptic_pred'] = elliptic.fit_predict(df[features])\n",
        "\n",
        "lof = LocalOutlierFactor(n_neighbors=20, contamination=0.02)\n",
        "df['lof_pred'] = lof.fit_predict(X)\n",
        "\n",
        "# Convert predictions: 1 = anomaly, 0 = normal\n",
        "for col in ['iso_pred', 'svm_pred', 'elliptic_pred', 'lof_pred']:\n",
        "    df[col] = df[col].apply(lambda x: 1 if x == -1 else 0)\n",
        "\n",
        "df['anomaly_score'] = df[['iso_pred', 'svm_pred', 'elliptic_pred', 'lof_pred']].sum(axis=1)\n",
        "df['is_anomaly'] = df['anomaly_score'] >= 2\n",
        "\n",
        "# Save anomalies to CSV\n",
        "anomalies_df = df[df['is_anomaly']]\n",
        "anomalies_path = \"/content/preh/anomalies_cleaned.csv\"\n",
        "anomalies_df.to_csv(anomalies_path, index=False)\n",
        "\n",
        "# Save feature summary\n",
        "summary_stats = df.describe().transpose()\n",
        "summary_path = \"/content/preh/feature_summary_cleaned.csv\"\n",
        "summary_stats.to_csv(summary_path)\n",
        "\n",
        "# Generate plots for each feature with anomalies marked\n",
        "plot_paths = []\n",
        "for col in features:\n",
        "    plt.figure(figsize=(15, 5))\n",
        "    sns.lineplot(data=df, x='time', y=col, label=col)\n",
        "    sns.scatterplot(data=df[df['is_anomaly']], x='time', y=col, color='red', label='Anomaly')\n",
        "    plt.title(f'Anomaly Detection for {col}')\n",
        "    plt.xticks(rotation=45)\n",
        "    plt.tight_layout()\n",
        "    img_path = f'/content/preh/{col}_anomaly_plot_cleaned.png'\n",
        "    plt.savefig(img_path)\n",
        "    plt.close()\n",
        "    plot_paths.append(img_path)\n",
        "\n",
        "plot_paths += [anomalies_path, summary_path]\n",
        "plot_paths\n"
      ]
    }
  ],
  "metadata": {
    "colab": {
      "provenance": []
    },
    "kernelspec": {
      "display_name": "Python 3",
      "name": "python3"
    },
    "language_info": {
      "name": "python"
    }
  },
  "nbformat": 4,
  "nbformat_minor": 0
}